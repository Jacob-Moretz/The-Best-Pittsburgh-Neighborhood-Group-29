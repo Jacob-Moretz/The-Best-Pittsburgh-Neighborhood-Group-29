{
 "cells": [
  {
   "cell_type": "markdown",
   "metadata": {},
   "source": [
    "# Best Neighborhood to Raise a Family of Children"
   ]
  },
  {
   "cell_type": "markdown",
   "metadata": {},
   "source": [
    "With this project, we wanted to figure out which of the Pittsburgh neighborhoods can be considered the best to raise a family with children. When trying to figure this out, we thought about what we would want our children to have if we had any. We looked at a few different datasets such as Grocery stores and Parks, however we decided to analyze satisfaction, schools, and playgrounds."
   ]
  },
  {
   "cell_type": "markdown",
   "metadata": {},
   "source": [
    "## The Metrics:"
   ]
  },
  {
   "cell_type": "markdown",
   "metadata": {},
   "source": [
    "#### Neighborhood Schools\n",
    "\n",
    "This data set contains information about the different schools in each Neighborhoods. These include the amount of gifted students, the amount of other Individual Education Plans, the amount of non gifted or IEP students, and the total enrollment per neighborhood. \n",
    "\n",
    "To compare each neighborhood, I first executed the following code:"
   ]
  },
  {
   "cell_type": "code",
   "execution_count": 1,
   "metadata": {},
   "outputs": [
    {
     "data": {
      "text/html": [
       "<div>\n",
       "<style scoped>\n",
       "    .dataframe tbody tr th:only-of-type {\n",
       "        vertical-align: middle;\n",
       "    }\n",
       "\n",
       "    .dataframe tbody tr th {\n",
       "        vertical-align: top;\n",
       "    }\n",
       "\n",
       "    .dataframe thead th {\n",
       "        text-align: right;\n",
       "    }\n",
       "</style>\n",
       "<table border=\"1\" class=\"dataframe\">\n",
       "  <thead>\n",
       "    <tr style=\"text-align: right;\">\n",
       "      <th></th>\n",
       "      <th>gifted</th>\n",
       "      <th>other_iep</th>\n",
       "      <th>not_iep_or_gifted</th>\n",
       "      <th>total_enrollment_k_12</th>\n",
       "      <th>Ratios</th>\n",
       "    </tr>\n",
       "    <tr>\n",
       "      <th>neighborhoods</th>\n",
       "      <th></th>\n",
       "      <th></th>\n",
       "      <th></th>\n",
       "      <th></th>\n",
       "      <th></th>\n",
       "    </tr>\n",
       "  </thead>\n",
       "  <tbody>\n",
       "    <tr>\n",
       "      <th>Squirrel Hill North</th>\n",
       "      <td>108</td>\n",
       "      <td>20</td>\n",
       "      <td>200</td>\n",
       "      <td>328</td>\n",
       "      <td>0.329268</td>\n",
       "    </tr>\n",
       "    <tr>\n",
       "      <th>Squirrel Hill South, Regent Square, Swisshelm Park</th>\n",
       "      <td>242</td>\n",
       "      <td>69</td>\n",
       "      <td>440</td>\n",
       "      <td>751</td>\n",
       "      <td>0.322237</td>\n",
       "    </tr>\n",
       "    <tr>\n",
       "      <th>Point Breeze</th>\n",
       "      <td>97</td>\n",
       "      <td>32</td>\n",
       "      <td>177</td>\n",
       "      <td>306</td>\n",
       "      <td>0.316993</td>\n",
       "    </tr>\n",
       "    <tr>\n",
       "      <th>Highland Park</th>\n",
       "      <td>83</td>\n",
       "      <td>45</td>\n",
       "      <td>254</td>\n",
       "      <td>382</td>\n",
       "      <td>0.217277</td>\n",
       "    </tr>\n",
       "    <tr>\n",
       "      <th>Greenfield</th>\n",
       "      <td>85</td>\n",
       "      <td>59</td>\n",
       "      <td>327</td>\n",
       "      <td>471</td>\n",
       "      <td>0.180467</td>\n",
       "    </tr>\n",
       "    <tr>\n",
       "      <th>Bloomfield, Friendship</th>\n",
       "      <td>43</td>\n",
       "      <td>50</td>\n",
       "      <td>198</td>\n",
       "      <td>291</td>\n",
       "      <td>0.147766</td>\n",
       "    </tr>\n",
       "    <tr>\n",
       "      <th>Point Breeze North</th>\n",
       "      <td>19</td>\n",
       "      <td>23</td>\n",
       "      <td>87</td>\n",
       "      <td>129</td>\n",
       "      <td>0.147287</td>\n",
       "    </tr>\n",
       "    <tr>\n",
       "      <th>South Side Flats</th>\n",
       "      <td>15</td>\n",
       "      <td>24</td>\n",
       "      <td>70</td>\n",
       "      <td>109</td>\n",
       "      <td>0.137615</td>\n",
       "    </tr>\n",
       "    <tr>\n",
       "      <th>Central, Upper Lawrenceville</th>\n",
       "      <td>32</td>\n",
       "      <td>49</td>\n",
       "      <td>154</td>\n",
       "      <td>235</td>\n",
       "      <td>0.136170</td>\n",
       "    </tr>\n",
       "    <tr>\n",
       "      <th>Central Northside</th>\n",
       "      <td>18</td>\n",
       "      <td>21</td>\n",
       "      <td>95</td>\n",
       "      <td>134</td>\n",
       "      <td>0.134328</td>\n",
       "    </tr>\n",
       "    <tr>\n",
       "      <th>Shadyside</th>\n",
       "      <td>26</td>\n",
       "      <td>20</td>\n",
       "      <td>154</td>\n",
       "      <td>200</td>\n",
       "      <td>0.130000</td>\n",
       "    </tr>\n",
       "    <tr>\n",
       "      <th>Brookline</th>\n",
       "      <td>119</td>\n",
       "      <td>203</td>\n",
       "      <td>790</td>\n",
       "      <td>1112</td>\n",
       "      <td>0.107014</td>\n",
       "    </tr>\n",
       "    <tr>\n",
       "      <th>Stanton Heights</th>\n",
       "      <td>32</td>\n",
       "      <td>45</td>\n",
       "      <td>230</td>\n",
       "      <td>307</td>\n",
       "      <td>0.104235</td>\n",
       "    </tr>\n",
       "    <tr>\n",
       "      <th>Morningside</th>\n",
       "      <td>16</td>\n",
       "      <td>28</td>\n",
       "      <td>121</td>\n",
       "      <td>165</td>\n",
       "      <td>0.096970</td>\n",
       "    </tr>\n",
       "    <tr>\n",
       "      <th>Perry North</th>\n",
       "      <td>33</td>\n",
       "      <td>66</td>\n",
       "      <td>257</td>\n",
       "      <td>356</td>\n",
       "      <td>0.092697</td>\n",
       "    </tr>\n",
       "    <tr>\n",
       "      <th>Lower Lawrenceville, Polish Hill, Strip District</th>\n",
       "      <td>11</td>\n",
       "      <td>22</td>\n",
       "      <td>102</td>\n",
       "      <td>135</td>\n",
       "      <td>0.081481</td>\n",
       "    </tr>\n",
       "    <tr>\n",
       "      <th>Hays, Lincoln Place, New Homestead</th>\n",
       "      <td>27</td>\n",
       "      <td>61</td>\n",
       "      <td>255</td>\n",
       "      <td>343</td>\n",
       "      <td>0.078717</td>\n",
       "    </tr>\n",
       "    <tr>\n",
       "      <th>South Side Slopes</th>\n",
       "      <td>13</td>\n",
       "      <td>48</td>\n",
       "      <td>116</td>\n",
       "      <td>177</td>\n",
       "      <td>0.073446</td>\n",
       "    </tr>\n",
       "    <tr>\n",
       "      <th>Brighton Heights</th>\n",
       "      <td>39</td>\n",
       "      <td>130</td>\n",
       "      <td>397</td>\n",
       "      <td>566</td>\n",
       "      <td>0.068905</td>\n",
       "    </tr>\n",
       "    <tr>\n",
       "      <th>East Allegheny, Spring Garden, Troy Hill</th>\n",
       "      <td>18</td>\n",
       "      <td>55</td>\n",
       "      <td>199</td>\n",
       "      <td>272</td>\n",
       "      <td>0.066176</td>\n",
       "    </tr>\n",
       "    <tr>\n",
       "      <th>Overbrook</th>\n",
       "      <td>17</td>\n",
       "      <td>55</td>\n",
       "      <td>192</td>\n",
       "      <td>264</td>\n",
       "      <td>0.064394</td>\n",
       "    </tr>\n",
       "    <tr>\n",
       "      <th>Beechview</th>\n",
       "      <td>44</td>\n",
       "      <td>166</td>\n",
       "      <td>540</td>\n",
       "      <td>750</td>\n",
       "      <td>0.058667</td>\n",
       "    </tr>\n",
       "    <tr>\n",
       "      <th>Duquesne Heights, Mount Washington</th>\n",
       "      <td>28</td>\n",
       "      <td>124</td>\n",
       "      <td>335</td>\n",
       "      <td>487</td>\n",
       "      <td>0.057495</td>\n",
       "    </tr>\n",
       "    <tr>\n",
       "      <th>Bluff, Central, North, South, West Oakland</th>\n",
       "      <td>11</td>\n",
       "      <td>36</td>\n",
       "      <td>152</td>\n",
       "      <td>199</td>\n",
       "      <td>0.055276</td>\n",
       "    </tr>\n",
       "    <tr>\n",
       "      <th>West End, Elliott</th>\n",
       "      <td>13</td>\n",
       "      <td>69</td>\n",
       "      <td>162</td>\n",
       "      <td>244</td>\n",
       "      <td>0.053279</td>\n",
       "    </tr>\n",
       "    <tr>\n",
       "      <th>East Liberty, Larimer</th>\n",
       "      <td>37</td>\n",
       "      <td>168</td>\n",
       "      <td>503</td>\n",
       "      <td>708</td>\n",
       "      <td>0.052260</td>\n",
       "    </tr>\n",
       "    <tr>\n",
       "      <th>Chartiers City, Esplen, Fairywood, Windgap</th>\n",
       "      <td>12</td>\n",
       "      <td>66</td>\n",
       "      <td>162</td>\n",
       "      <td>240</td>\n",
       "      <td>0.050000</td>\n",
       "    </tr>\n",
       "    <tr>\n",
       "      <th>Carrick</th>\n",
       "      <td>60</td>\n",
       "      <td>265</td>\n",
       "      <td>887</td>\n",
       "      <td>1212</td>\n",
       "      <td>0.049505</td>\n",
       "    </tr>\n",
       "    <tr>\n",
       "      <th>Hazelwood, Glen Hazel</th>\n",
       "      <td>30</td>\n",
       "      <td>185</td>\n",
       "      <td>420</td>\n",
       "      <td>635</td>\n",
       "      <td>0.047244</td>\n",
       "    </tr>\n",
       "    <tr>\n",
       "      <th>Banksville, Ridgemont, Oakwood, East Carnegie, Westwood</th>\n",
       "      <td>24</td>\n",
       "      <td>70</td>\n",
       "      <td>436</td>\n",
       "      <td>530</td>\n",
       "      <td>0.045283</td>\n",
       "    </tr>\n",
       "    <tr>\n",
       "      <th>Perry South, Fineview</th>\n",
       "      <td>18</td>\n",
       "      <td>133</td>\n",
       "      <td>348</td>\n",
       "      <td>499</td>\n",
       "      <td>0.036072</td>\n",
       "    </tr>\n",
       "    <tr>\n",
       "      <th>Lincoln-Lemington-Belmar</th>\n",
       "      <td>17</td>\n",
       "      <td>107</td>\n",
       "      <td>356</td>\n",
       "      <td>480</td>\n",
       "      <td>0.035417</td>\n",
       "    </tr>\n",
       "    <tr>\n",
       "      <th>Allegheny Center, Allegheny West, California Kirkbride, Chateau, Manchester</th>\n",
       "      <td>12</td>\n",
       "      <td>89</td>\n",
       "      <td>250</td>\n",
       "      <td>351</td>\n",
       "      <td>0.034188</td>\n",
       "    </tr>\n",
       "    <tr>\n",
       "      <th>Knoxville, Bon Air</th>\n",
       "      <td>21</td>\n",
       "      <td>190</td>\n",
       "      <td>443</td>\n",
       "      <td>654</td>\n",
       "      <td>0.032110</td>\n",
       "    </tr>\n",
       "    <tr>\n",
       "      <th>East Hills, Wilkinsburg Borough</th>\n",
       "      <td>26</td>\n",
       "      <td>198</td>\n",
       "      <td>603</td>\n",
       "      <td>827</td>\n",
       "      <td>0.031439</td>\n",
       "    </tr>\n",
       "    <tr>\n",
       "      <th>Allentown, Beltzhoover</th>\n",
       "      <td>15</td>\n",
       "      <td>148</td>\n",
       "      <td>366</td>\n",
       "      <td>529</td>\n",
       "      <td>0.028355</td>\n",
       "    </tr>\n",
       "    <tr>\n",
       "      <th>Marshall-Shadeland</th>\n",
       "      <td>12</td>\n",
       "      <td>107</td>\n",
       "      <td>317</td>\n",
       "      <td>436</td>\n",
       "      <td>0.027523</td>\n",
       "    </tr>\n",
       "    <tr>\n",
       "      <th>Mt. Oliver Borough, Mt. Oliver, Arlington, Arlington Heights, St. Clair</th>\n",
       "      <td>20</td>\n",
       "      <td>217</td>\n",
       "      <td>530</td>\n",
       "      <td>767</td>\n",
       "      <td>0.026076</td>\n",
       "    </tr>\n",
       "    <tr>\n",
       "      <th>Homewood North, South, West</th>\n",
       "      <td>27</td>\n",
       "      <td>274</td>\n",
       "      <td>789</td>\n",
       "      <td>1090</td>\n",
       "      <td>0.024771</td>\n",
       "    </tr>\n",
       "    <tr>\n",
       "      <th>Crafton Heights</th>\n",
       "      <td>12</td>\n",
       "      <td>98</td>\n",
       "      <td>393</td>\n",
       "      <td>503</td>\n",
       "      <td>0.023857</td>\n",
       "    </tr>\n",
       "    <tr>\n",
       "      <th>Garfield</th>\n",
       "      <td>11</td>\n",
       "      <td>124</td>\n",
       "      <td>352</td>\n",
       "      <td>487</td>\n",
       "      <td>0.022587</td>\n",
       "    </tr>\n",
       "    <tr>\n",
       "      <th>Sheraden</th>\n",
       "      <td>14</td>\n",
       "      <td>194</td>\n",
       "      <td>428</td>\n",
       "      <td>636</td>\n",
       "      <td>0.022013</td>\n",
       "    </tr>\n",
       "    <tr>\n",
       "      <th>Hill District</th>\n",
       "      <td>25</td>\n",
       "      <td>273</td>\n",
       "      <td>838</td>\n",
       "      <td>1136</td>\n",
       "      <td>0.022007</td>\n",
       "    </tr>\n",
       "    <tr>\n",
       "      <th>Spring Hill, Summer Hill, Northview Heights</th>\n",
       "      <td>13</td>\n",
       "      <td>171</td>\n",
       "      <td>589</td>\n",
       "      <td>773</td>\n",
       "      <td>0.016818</td>\n",
       "    </tr>\n",
       "  </tbody>\n",
       "</table>\n",
       "</div>"
      ],
      "text/plain": [
       "                                                    gifted  other_iep  \\\n",
       "neighborhoods                                                           \n",
       "Squirrel Hill North                                    108         20   \n",
       "Squirrel Hill South, Regent Square, Swisshelm Park     242         69   \n",
       "Point Breeze                                            97         32   \n",
       "Highland Park                                           83         45   \n",
       "Greenfield                                              85         59   \n",
       "Bloomfield, Friendship                                  43         50   \n",
       "Point Breeze North                                      19         23   \n",
       "South Side Flats                                        15         24   \n",
       "Central, Upper Lawrenceville                            32         49   \n",
       "Central Northside                                       18         21   \n",
       "Shadyside                                               26         20   \n",
       "Brookline                                              119        203   \n",
       "Stanton Heights                                         32         45   \n",
       "Morningside                                             16         28   \n",
       "Perry North                                             33         66   \n",
       "Lower Lawrenceville, Polish Hill, Strip District        11         22   \n",
       "Hays, Lincoln Place, New Homestead                      27         61   \n",
       "South Side Slopes                                       13         48   \n",
       "Brighton Heights                                        39        130   \n",
       "East Allegheny, Spring Garden, Troy Hill                18         55   \n",
       "Overbrook                                               17         55   \n",
       "Beechview                                               44        166   \n",
       "Duquesne Heights, Mount Washington                      28        124   \n",
       "Bluff, Central, North, South, West Oakland              11         36   \n",
       "West End, Elliott                                       13         69   \n",
       "East Liberty, Larimer                                   37        168   \n",
       "Chartiers City, Esplen, Fairywood, Windgap              12         66   \n",
       "Carrick                                                 60        265   \n",
       "Hazelwood, Glen Hazel                                   30        185   \n",
       "Banksville, Ridgemont, Oakwood, East Carnegie, ...      24         70   \n",
       "Perry South, Fineview                                   18        133   \n",
       "Lincoln-Lemington-Belmar                                17        107   \n",
       "Allegheny Center, Allegheny West, California Ki...      12         89   \n",
       "Knoxville, Bon Air                                      21        190   \n",
       "East Hills, Wilkinsburg Borough                         26        198   \n",
       "Allentown, Beltzhoover                                  15        148   \n",
       "Marshall-Shadeland                                      12        107   \n",
       "Mt. Oliver Borough, Mt. Oliver, Arlington, Arli...      20        217   \n",
       "Homewood North, South, West                             27        274   \n",
       "Crafton Heights                                         12         98   \n",
       "Garfield                                                11        124   \n",
       "Sheraden                                                14        194   \n",
       "Hill District                                           25        273   \n",
       "Spring Hill, Summer Hill, Northview Heights             13        171   \n",
       "\n",
       "                                                    not_iep_or_gifted  \\\n",
       "neighborhoods                                                           \n",
       "Squirrel Hill North                                               200   \n",
       "Squirrel Hill South, Regent Square, Swisshelm Park                440   \n",
       "Point Breeze                                                      177   \n",
       "Highland Park                                                     254   \n",
       "Greenfield                                                        327   \n",
       "Bloomfield, Friendship                                            198   \n",
       "Point Breeze North                                                 87   \n",
       "South Side Flats                                                   70   \n",
       "Central, Upper Lawrenceville                                      154   \n",
       "Central Northside                                                  95   \n",
       "Shadyside                                                         154   \n",
       "Brookline                                                         790   \n",
       "Stanton Heights                                                   230   \n",
       "Morningside                                                       121   \n",
       "Perry North                                                       257   \n",
       "Lower Lawrenceville, Polish Hill, Strip District                  102   \n",
       "Hays, Lincoln Place, New Homestead                                255   \n",
       "South Side Slopes                                                 116   \n",
       "Brighton Heights                                                  397   \n",
       "East Allegheny, Spring Garden, Troy Hill                          199   \n",
       "Overbrook                                                         192   \n",
       "Beechview                                                         540   \n",
       "Duquesne Heights, Mount Washington                                335   \n",
       "Bluff, Central, North, South, West Oakland                        152   \n",
       "West End, Elliott                                                 162   \n",
       "East Liberty, Larimer                                             503   \n",
       "Chartiers City, Esplen, Fairywood, Windgap                        162   \n",
       "Carrick                                                           887   \n",
       "Hazelwood, Glen Hazel                                             420   \n",
       "Banksville, Ridgemont, Oakwood, East Carnegie, ...                436   \n",
       "Perry South, Fineview                                             348   \n",
       "Lincoln-Lemington-Belmar                                          356   \n",
       "Allegheny Center, Allegheny West, California Ki...                250   \n",
       "Knoxville, Bon Air                                                443   \n",
       "East Hills, Wilkinsburg Borough                                   603   \n",
       "Allentown, Beltzhoover                                            366   \n",
       "Marshall-Shadeland                                                317   \n",
       "Mt. Oliver Borough, Mt. Oliver, Arlington, Arli...                530   \n",
       "Homewood North, South, West                                       789   \n",
       "Crafton Heights                                                   393   \n",
       "Garfield                                                          352   \n",
       "Sheraden                                                          428   \n",
       "Hill District                                                     838   \n",
       "Spring Hill, Summer Hill, Northview Heights                       589   \n",
       "\n",
       "                                                    total_enrollment_k_12  \\\n",
       "neighborhoods                                                               \n",
       "Squirrel Hill North                                                   328   \n",
       "Squirrel Hill South, Regent Square, Swisshelm Park                    751   \n",
       "Point Breeze                                                          306   \n",
       "Highland Park                                                         382   \n",
       "Greenfield                                                            471   \n",
       "Bloomfield, Friendship                                                291   \n",
       "Point Breeze North                                                    129   \n",
       "South Side Flats                                                      109   \n",
       "Central, Upper Lawrenceville                                          235   \n",
       "Central Northside                                                     134   \n",
       "Shadyside                                                             200   \n",
       "Brookline                                                            1112   \n",
       "Stanton Heights                                                       307   \n",
       "Morningside                                                           165   \n",
       "Perry North                                                           356   \n",
       "Lower Lawrenceville, Polish Hill, Strip District                      135   \n",
       "Hays, Lincoln Place, New Homestead                                    343   \n",
       "South Side Slopes                                                     177   \n",
       "Brighton Heights                                                      566   \n",
       "East Allegheny, Spring Garden, Troy Hill                              272   \n",
       "Overbrook                                                             264   \n",
       "Beechview                                                             750   \n",
       "Duquesne Heights, Mount Washington                                    487   \n",
       "Bluff, Central, North, South, West Oakland                            199   \n",
       "West End, Elliott                                                     244   \n",
       "East Liberty, Larimer                                                 708   \n",
       "Chartiers City, Esplen, Fairywood, Windgap                            240   \n",
       "Carrick                                                              1212   \n",
       "Hazelwood, Glen Hazel                                                 635   \n",
       "Banksville, Ridgemont, Oakwood, East Carnegie, ...                    530   \n",
       "Perry South, Fineview                                                 499   \n",
       "Lincoln-Lemington-Belmar                                              480   \n",
       "Allegheny Center, Allegheny West, California Ki...                    351   \n",
       "Knoxville, Bon Air                                                    654   \n",
       "East Hills, Wilkinsburg Borough                                       827   \n",
       "Allentown, Beltzhoover                                                529   \n",
       "Marshall-Shadeland                                                    436   \n",
       "Mt. Oliver Borough, Mt. Oliver, Arlington, Arli...                    767   \n",
       "Homewood North, South, West                                          1090   \n",
       "Crafton Heights                                                       503   \n",
       "Garfield                                                              487   \n",
       "Sheraden                                                              636   \n",
       "Hill District                                                        1136   \n",
       "Spring Hill, Summer Hill, Northview Heights                           773   \n",
       "\n",
       "                                                      Ratios  \n",
       "neighborhoods                                                 \n",
       "Squirrel Hill North                                 0.329268  \n",
       "Squirrel Hill South, Regent Square, Swisshelm Park  0.322237  \n",
       "Point Breeze                                        0.316993  \n",
       "Highland Park                                       0.217277  \n",
       "Greenfield                                          0.180467  \n",
       "Bloomfield, Friendship                              0.147766  \n",
       "Point Breeze North                                  0.147287  \n",
       "South Side Flats                                    0.137615  \n",
       "Central, Upper Lawrenceville                        0.136170  \n",
       "Central Northside                                   0.134328  \n",
       "Shadyside                                           0.130000  \n",
       "Brookline                                           0.107014  \n",
       "Stanton Heights                                     0.104235  \n",
       "Morningside                                         0.096970  \n",
       "Perry North                                         0.092697  \n",
       "Lower Lawrenceville, Polish Hill, Strip District    0.081481  \n",
       "Hays, Lincoln Place, New Homestead                  0.078717  \n",
       "South Side Slopes                                   0.073446  \n",
       "Brighton Heights                                    0.068905  \n",
       "East Allegheny, Spring Garden, Troy Hill            0.066176  \n",
       "Overbrook                                           0.064394  \n",
       "Beechview                                           0.058667  \n",
       "Duquesne Heights, Mount Washington                  0.057495  \n",
       "Bluff, Central, North, South, West Oakland          0.055276  \n",
       "West End, Elliott                                   0.053279  \n",
       "East Liberty, Larimer                               0.052260  \n",
       "Chartiers City, Esplen, Fairywood, Windgap          0.050000  \n",
       "Carrick                                             0.049505  \n",
       "Hazelwood, Glen Hazel                               0.047244  \n",
       "Banksville, Ridgemont, Oakwood, East Carnegie, ...  0.045283  \n",
       "Perry South, Fineview                               0.036072  \n",
       "Lincoln-Lemington-Belmar                            0.035417  \n",
       "Allegheny Center, Allegheny West, California Ki...  0.034188  \n",
       "Knoxville, Bon Air                                  0.032110  \n",
       "East Hills, Wilkinsburg Borough                     0.031439  \n",
       "Allentown, Beltzhoover                              0.028355  \n",
       "Marshall-Shadeland                                  0.027523  \n",
       "Mt. Oliver Borough, Mt. Oliver, Arlington, Arli...  0.026076  \n",
       "Homewood North, South, West                         0.024771  \n",
       "Crafton Heights                                     0.023857  \n",
       "Garfield                                            0.022587  \n",
       "Sheraden                                            0.022013  \n",
       "Hill District                                       0.022007  \n",
       "Spring Hill, Summer Hill, Northview Heights         0.016818  "
      ]
     },
     "execution_count": 1,
     "metadata": {},
     "output_type": "execute_result"
    }
   ],
   "source": [
    "import pandas as pd\n",
    "\n",
    "%matplotlib inline\n",
    "\n",
    "school = pd.read_csv(\"neighborhood_iep (2).csv\")\n",
    "school['Ratios'] = school['gifted'].div(school['total_enrollment_k_12'])\n",
    "school_new = school.set_index('neighborhoods')\n",
    "school_new.sort_values(\"Ratios\", ascending=False)"
   ]
  },
  {
   "cell_type": "markdown",
   "metadata": {},
   "source": [
    "Using the code above, I created another column called Ratios. The ratio is the amount of gifted students divided by the total enrollment to find a percentage of gifted to total students. The data is then organized by the greatest to least ratios."
   ]
  },
  {
   "cell_type": "code",
   "execution_count": 2,
   "metadata": {},
   "outputs": [
    {
     "data": {
      "text/plain": [
       "<matplotlib.axes._subplots.AxesSubplot at 0x7f06c22d25e0>"
      ]
     },
     "execution_count": 2,
     "metadata": {},
     "output_type": "execute_result"
    },
    {
     "data": {
      "image/png": "[encoded data removed]",
      "text/plain": [
       "<Figure size 1440x720 with 1 Axes>"
      ]
     },
     "metadata": {
      "needs_background": "light"
     },
     "output_type": "display_data"
    }
   ],
   "source": [
    "topFive = school_new.iloc[:, [4]].sort_values(\"Ratios\", ascending=False).head(5)\n",
    "topFive.plot(kind='bar', figsize = (20,10) ,title=\"Top 5 Schools Based on Gifted/Total Ratio\",color=\"red\")"
   ]
  },
  {
   "cell_type": "markdown",
   "metadata": {},
   "source": [
    "Based on the data above, we can see that Squirrel Hill North, South, Regent square, Swisshelm park, and Point breeze all contain similar ratios. Meaning that all 3 neighborhoods are great options to send your children to school."
   ]
  },
  {
   "cell_type": "markdown",
   "metadata": {},
   "source": [
    "#### Playgrounds by Neighborhood"
   ]
  },
  {
   "cell_type": "markdown",
   "metadata": {},
   "source": [
    "Data from: https://data.wprdc.org/datastore/dump/47350364-44a8-4d15-b6e0-5f79ddff9367\n"
   ]
  },
  {
   "cell_type": "code",
   "execution_count": 3,
   "metadata": {},
   "outputs": [
    {
     "name": "stdout",
     "output_type": "stream",
     "text": [
      "<class 'pandas.core.frame.DataFrame'>\n",
      "RangeIndex: 125 entries, 0 to 124\n",
      "Data columns (total 17 columns):\n",
      " #   Column                      Non-Null Count  Dtype  \n",
      "---  ------                      --------------  -----  \n",
      " 0   id                          125 non-null    int64  \n",
      " 1   name                        125 non-null    object \n",
      " 2   type                        0 non-null      float64\n",
      " 3   maintenance_responsibility  120 non-null    object \n",
      " 4   park                        123 non-null    object \n",
      " 5   street                      123 non-null    object \n",
      " 6   image                       118 non-null    object \n",
      " 7   neighborhood                125 non-null    object \n",
      " 8   council_district            125 non-null    int64  \n",
      " 9   ward                        125 non-null    int64  \n",
      " 10  tract                       125 non-null    int64  \n",
      " 11  public_works_division       125 non-null    int64  \n",
      " 12  pli_division                125 non-null    int64  \n",
      " 13  police_zone                 125 non-null    int64  \n",
      " 14  fire_zone                   125 non-null    object \n",
      " 15  latitude                    125 non-null    float64\n",
      " 16  longitude                   125 non-null    float64\n",
      "dtypes: float64(3), int64(7), object(7)\n",
      "memory usage: 16.7+ KB\n"
     ]
    }
   ],
   "source": [
    "import pandas as pd\n",
    "import numpy as np\n",
    "%matplotlib inline\n",
    "import matplotlib.pyplot as plt\n",
    "df = pd.read_csv('playgrounds.csv')\n",
    "df.info()"
   ]
  },
  {
   "cell_type": "markdown",
   "metadata": {},
   "source": [
    "This is the information used to present the graph, For neighborhood there are 125 data points with information I used the sort_values method which is normally in ascending order, so I set ascending=False to reverse the order."
   ]
  },
  {
   "cell_type": "code",
   "execution_count": 4,
   "metadata": {},
   "outputs": [
    {
     "data": {
      "text/plain": [
       "Squirrel Hill South    8\n",
       "South Side Slopes      5\n",
       "Beechview              5\n",
       "Highland Park          4\n",
       "Sheraden               4\n",
       "Beltzhoover            4\n",
       "Allegheny Center       4\n",
       "Hazelwood              3\n",
       "East Liberty           3\n",
       "Upper Lawrenceville    3\n",
       "Crawford-Roberts       3\n",
       "South Oakland          3\n",
       "Elliott                3\n",
       "Mount Washington       3\n",
       "Carrick                3\n",
       "Name: neighborhood, dtype: int64"
      ]
     },
     "execution_count": 4,
     "metadata": {},
     "output_type": "execute_result"
    }
   ],
   "source": [
    "neighborhood_counts = df['neighborhood'].value_counts()\n",
    "neighborhood_counts = neighborhood_counts.sort_values(ascending=False)\n",
    "neighborhood_counts.head(15)"
   ]
  },
  {
   "cell_type": "markdown",
   "metadata": {},
   "source": [
    "Here are the top 15 neighborhoods ranked by the amount of playgrounds per neighborhood, I used"
   ]
  },
  {
   "cell_type": "code",
   "execution_count": 5,
   "metadata": {},
   "outputs": [
    {
     "data": {
      "text/plain": [
       "<matplotlib.axes._subplots.AxesSubplot at 0x7f06c1b18160>"
      ]
     },
     "execution_count": 5,
     "metadata": {},
     "output_type": "execute_result"
    },
    {
     "data": {
      "image/png": "[encoded data removed]",
      "text/plain": [
       "<Figure size 1440x720 with 1 Axes>"
      ]
     },
     "metadata": {
      "needs_background": "light"
     },
     "output_type": "display_data"
    }
   ],
   "source": [
    "neighborhood_counts.head(15).plot.bar(x= 'neighborhoods',figsize = (20,10),rot=45 ,title = 'Amount of Playgrounds per Neighborhood')\n"
   ]
  },
  {
   "cell_type": "markdown",
   "metadata": {},
   "source": [
    "This is the bar graph created to display the top 15 neighborhoods by amount of playgrounds in decending order"
   ]
  },
  {
   "cell_type": "markdown",
   "metadata": {},
   "source": [
    "#### Satisfaction"
   ]
  },
  {
   "cell_type": "code",
   "execution_count": 1,
   "metadata": {},
   "outputs": [],
   "source": [
    "#import everything needed\n",
    "import pandas as pd\n",
    "import numpy as np\n",
    "%matplotlib inline\n",
    "import matplotlib.pyplot as plt"
   ]
  },
  {
   "cell_type": "markdown",
   "metadata": {},
   "source": [
    "What was done was basically importing the dataset and using .describe() and other functions to see if it worked. After that I narrowed down the dataset with the columns and rows I wanted (the columns I wanted were categories for each neighborhood). I then got the top 5 neighborhoods of each category and made dataframes for each individual category, then for each category I plotted a bar graph which displayed the top 5 neighborhoods with the highest satisfaction in their specified category. The categories were: public transportation, street maintenance, schools, parks."
   ]
  },
  {
   "cell_type": "code",
   "execution_count": 2,
   "metadata": {},
   "outputs": [
    {
     "ename": "KeyError",
     "evalue": "\"None of [Index(['neighborhood', 'parks_satisfied', 'schools_satisfied',\\n       'street_maintenance_satisfied', 'public_transportation_satisfied',\\n       'fire_department_satisfied', 'sewage_system_satisfied',\\n       'condition_cost_housing_satisfied'],\\n      dtype='object')] are in the [columns]\"",
     "output_type": "error",
     "traceback": [
      "\u001b[0;31m---------------------------------------------------------------------------\u001b[0m",
      "\u001b[0;31mKeyError\u001b[0m                                  Traceback (most recent call last)",
      "\u001b[0;32m<ipython-input-2-d96a5b763805>\u001b[0m in \u001b[0;36m<module>\u001b[0;34m\u001b[0m\n\u001b[1;32m      6\u001b[0m \u001b[0;34m\u001b[0m\u001b[0m\n\u001b[1;32m      7\u001b[0m \u001b[0;31m#get all the rows and the specified columns from the dataset\u001b[0m\u001b[0;34m\u001b[0m\u001b[0;34m\u001b[0m\u001b[0;34m\u001b[0m\u001b[0m\n\u001b[0;32m----> 8\u001b[0;31m \u001b[0mneighSat\u001b[0m\u001b[0;34m.\u001b[0m\u001b[0mloc\u001b[0m\u001b[0;34m[\u001b[0m\u001b[0;34m:\u001b[0m\u001b[0;34m,\u001b[0m\u001b[0;34m[\u001b[0m\u001b[0;34m'neighborhood'\u001b[0m\u001b[0;34m,\u001b[0m\u001b[0;34m'parks_satisfied'\u001b[0m\u001b[0;34m,\u001b[0m \u001b[0;34m'schools_satisfied'\u001b[0m\u001b[0;34m,\u001b[0m\u001b[0;34m'street_maintenance_satisfied'\u001b[0m\u001b[0;34m,\u001b[0m\u001b[0;34m'public_transportation_satisfied'\u001b[0m\u001b[0;34m,\u001b[0m\u001b[0;34m'fire_department_satisfied'\u001b[0m\u001b[0;34m,\u001b[0m\u001b[0;34m'sewage_system_satisfied'\u001b[0m\u001b[0;34m,\u001b[0m\u001b[0;34m'condition_cost_housing_satisfied'\u001b[0m\u001b[0;34m]\u001b[0m \u001b[0;34m]\u001b[0m\u001b[0;34m\u001b[0m\u001b[0;34m\u001b[0m\u001b[0m\n\u001b[0m\u001b[1;32m      9\u001b[0m \u001b[0;34m\u001b[0m\u001b[0m\n\u001b[1;32m     10\u001b[0m \u001b[0;31m#make a new frame that just contains the ^^above^^ query\u001b[0m\u001b[0;34m\u001b[0m\u001b[0;34m\u001b[0m\u001b[0;34m\u001b[0m\u001b[0m\n",
      "\u001b[0;32m/opt/tljh/user/lib/python3.8/site-packages/pandas/core/indexing.py\u001b[0m in \u001b[0;36m__getitem__\u001b[0;34m(self, key)\u001b[0m\n\u001b[1;32m    959\u001b[0m             \u001b[0;32mif\u001b[0m \u001b[0mself\u001b[0m\u001b[0;34m.\u001b[0m\u001b[0m_is_scalar_access\u001b[0m\u001b[0;34m(\u001b[0m\u001b[0mkey\u001b[0m\u001b[0;34m)\u001b[0m\u001b[0;34m:\u001b[0m\u001b[0;34m\u001b[0m\u001b[0;34m\u001b[0m\u001b[0m\n\u001b[1;32m    960\u001b[0m                 \u001b[0;32mreturn\u001b[0m \u001b[0mself\u001b[0m\u001b[0;34m.\u001b[0m\u001b[0mobj\u001b[0m\u001b[0;34m.\u001b[0m\u001b[0m_get_value\u001b[0m\u001b[0;34m(\u001b[0m\u001b[0;34m*\u001b[0m\u001b[0mkey\u001b[0m\u001b[0;34m,\u001b[0m \u001b[0mtakeable\u001b[0m\u001b[0;34m=\u001b[0m\u001b[0mself\u001b[0m\u001b[0;34m.\u001b[0m\u001b[0m_takeable\u001b[0m\u001b[0;34m)\u001b[0m\u001b[0;34m\u001b[0m\u001b[0;34m\u001b[0m\u001b[0m\n\u001b[0;32m--> 961\u001b[0;31m             \u001b[0;32mreturn\u001b[0m \u001b[0mself\u001b[0m\u001b[0;34m.\u001b[0m\u001b[0m_getitem_tuple\u001b[0m\u001b[0;34m(\u001b[0m\u001b[0mkey\u001b[0m\u001b[0;34m)\u001b[0m\u001b[0;34m\u001b[0m\u001b[0;34m\u001b[0m\u001b[0m\n\u001b[0m\u001b[1;32m    962\u001b[0m         \u001b[0;32melse\u001b[0m\u001b[0;34m:\u001b[0m\u001b[0;34m\u001b[0m\u001b[0;34m\u001b[0m\u001b[0m\n\u001b[1;32m    963\u001b[0m             \u001b[0;31m# we by definition only have the 0th axis\u001b[0m\u001b[0;34m\u001b[0m\u001b[0;34m\u001b[0m\u001b[0;34m\u001b[0m\u001b[0m\n",
      "\u001b[0;32m/opt/tljh/user/lib/python3.8/site-packages/pandas/core/indexing.py\u001b[0m in \u001b[0;36m_getitem_tuple\u001b[0;34m(self, tup)\u001b[0m\n\u001b[1;32m   1147\u001b[0m             \u001b[0;32mreturn\u001b[0m \u001b[0mself\u001b[0m\u001b[0;34m.\u001b[0m\u001b[0m_multi_take\u001b[0m\u001b[0;34m(\u001b[0m\u001b[0mtup\u001b[0m\u001b[0;34m)\u001b[0m\u001b[0;34m\u001b[0m\u001b[0;34m\u001b[0m\u001b[0m\n\u001b[1;32m   1148\u001b[0m \u001b[0;34m\u001b[0m\u001b[0m\n\u001b[0;32m-> 1149\u001b[0;31m         \u001b[0;32mreturn\u001b[0m \u001b[0mself\u001b[0m\u001b[0;34m.\u001b[0m\u001b[0m_getitem_tuple_same_dim\u001b[0m\u001b[0;34m(\u001b[0m\u001b[0mtup\u001b[0m\u001b[0;34m)\u001b[0m\u001b[0;34m\u001b[0m\u001b[0;34m\u001b[0m\u001b[0m\n\u001b[0m\u001b[1;32m   1150\u001b[0m \u001b[0;34m\u001b[0m\u001b[0m\n\u001b[1;32m   1151\u001b[0m     \u001b[0;32mdef\u001b[0m \u001b[0m_get_label\u001b[0m\u001b[0;34m(\u001b[0m\u001b[0mself\u001b[0m\u001b[0;34m,\u001b[0m \u001b[0mlabel\u001b[0m\u001b[0;34m,\u001b[0m \u001b[0maxis\u001b[0m\u001b[0;34m:\u001b[0m \u001b[0mint\u001b[0m\u001b[0;34m)\u001b[0m\u001b[0;34m:\u001b[0m\u001b[0;34m\u001b[0m\u001b[0;34m\u001b[0m\u001b[0m\n",
      "\u001b[0;32m/opt/tljh/user/lib/python3.8/site-packages/pandas/core/indexing.py\u001b[0m in \u001b[0;36m_getitem_tuple_same_dim\u001b[0;34m(self, tup)\u001b[0m\n\u001b[1;32m    825\u001b[0m                 \u001b[0;32mcontinue\u001b[0m\u001b[0;34m\u001b[0m\u001b[0;34m\u001b[0m\u001b[0m\n\u001b[1;32m    826\u001b[0m \u001b[0;34m\u001b[0m\u001b[0m\n\u001b[0;32m--> 827\u001b[0;31m             \u001b[0mretval\u001b[0m \u001b[0;34m=\u001b[0m \u001b[0mgetattr\u001b[0m\u001b[0;34m(\u001b[0m\u001b[0mretval\u001b[0m\u001b[0;34m,\u001b[0m \u001b[0mself\u001b[0m\u001b[0;34m.\u001b[0m\u001b[0mname\u001b[0m\u001b[0;34m)\u001b[0m\u001b[0;34m.\u001b[0m\u001b[0m_getitem_axis\u001b[0m\u001b[0;34m(\u001b[0m\u001b[0mkey\u001b[0m\u001b[0;34m,\u001b[0m \u001b[0maxis\u001b[0m\u001b[0;34m=\u001b[0m\u001b[0mi\u001b[0m\u001b[0;34m)\u001b[0m\u001b[0;34m\u001b[0m\u001b[0;34m\u001b[0m\u001b[0m\n\u001b[0m\u001b[1;32m    828\u001b[0m             \u001b[0;31m# We should never have retval.ndim < self.ndim, as that should\u001b[0m\u001b[0;34m\u001b[0m\u001b[0;34m\u001b[0m\u001b[0;34m\u001b[0m\u001b[0m\n\u001b[1;32m    829\u001b[0m             \u001b[0;31m#  be handled by the _getitem_lowerdim call above.\u001b[0m\u001b[0;34m\u001b[0m\u001b[0;34m\u001b[0m\u001b[0;34m\u001b[0m\u001b[0m\n",
      "\u001b[0;32m/opt/tljh/user/lib/python3.8/site-packages/pandas/core/indexing.py\u001b[0m in \u001b[0;36m_getitem_axis\u001b[0;34m(self, key, axis)\u001b[0m\n\u001b[1;32m   1189\u001b[0m                     \u001b[0;32mraise\u001b[0m \u001b[0mValueError\u001b[0m\u001b[0;34m(\u001b[0m\u001b[0;34m\"Cannot index with multidimensional key\"\u001b[0m\u001b[0;34m)\u001b[0m\u001b[0;34m\u001b[0m\u001b[0;34m\u001b[0m\u001b[0m\n\u001b[1;32m   1190\u001b[0m \u001b[0;34m\u001b[0m\u001b[0m\n\u001b[0;32m-> 1191\u001b[0;31m                 \u001b[0;32mreturn\u001b[0m \u001b[0mself\u001b[0m\u001b[0;34m.\u001b[0m\u001b[0m_getitem_iterable\u001b[0m\u001b[0;34m(\u001b[0m\u001b[0mkey\u001b[0m\u001b[0;34m,\u001b[0m \u001b[0maxis\u001b[0m\u001b[0;34m=\u001b[0m\u001b[0maxis\u001b[0m\u001b[0;34m)\u001b[0m\u001b[0;34m\u001b[0m\u001b[0;34m\u001b[0m\u001b[0m\n\u001b[0m\u001b[1;32m   1192\u001b[0m \u001b[0;34m\u001b[0m\u001b[0m\n\u001b[1;32m   1193\u001b[0m             \u001b[0;31m# nested tuple slicing\u001b[0m\u001b[0;34m\u001b[0m\u001b[0;34m\u001b[0m\u001b[0;34m\u001b[0m\u001b[0m\n",
      "\u001b[0;32m/opt/tljh/user/lib/python3.8/site-packages/pandas/core/indexing.py\u001b[0m in \u001b[0;36m_getitem_iterable\u001b[0;34m(self, key, axis)\u001b[0m\n\u001b[1;32m   1130\u001b[0m \u001b[0;34m\u001b[0m\u001b[0m\n\u001b[1;32m   1131\u001b[0m         \u001b[0;31m# A collection of keys\u001b[0m\u001b[0;34m\u001b[0m\u001b[0;34m\u001b[0m\u001b[0;34m\u001b[0m\u001b[0m\n\u001b[0;32m-> 1132\u001b[0;31m         \u001b[0mkeyarr\u001b[0m\u001b[0;34m,\u001b[0m \u001b[0mindexer\u001b[0m \u001b[0;34m=\u001b[0m \u001b[0mself\u001b[0m\u001b[0;34m.\u001b[0m\u001b[0m_get_listlike_indexer\u001b[0m\u001b[0;34m(\u001b[0m\u001b[0mkey\u001b[0m\u001b[0;34m,\u001b[0m \u001b[0maxis\u001b[0m\u001b[0;34m)\u001b[0m\u001b[0;34m\u001b[0m\u001b[0;34m\u001b[0m\u001b[0m\n\u001b[0m\u001b[1;32m   1133\u001b[0m         return self.obj._reindex_with_indexers(\n\u001b[1;32m   1134\u001b[0m             \u001b[0;34m{\u001b[0m\u001b[0maxis\u001b[0m\u001b[0;34m:\u001b[0m \u001b[0;34m[\u001b[0m\u001b[0mkeyarr\u001b[0m\u001b[0;34m,\u001b[0m \u001b[0mindexer\u001b[0m\u001b[0;34m]\u001b[0m\u001b[0;34m}\u001b[0m\u001b[0;34m,\u001b[0m \u001b[0mcopy\u001b[0m\u001b[0;34m=\u001b[0m\u001b[0;32mTrue\u001b[0m\u001b[0;34m,\u001b[0m \u001b[0mallow_dups\u001b[0m\u001b[0;34m=\u001b[0m\u001b[0;32mTrue\u001b[0m\u001b[0;34m\u001b[0m\u001b[0;34m\u001b[0m\u001b[0m\n",
      "\u001b[0;32m/opt/tljh/user/lib/python3.8/site-packages/pandas/core/indexing.py\u001b[0m in \u001b[0;36m_get_listlike_indexer\u001b[0;34m(self, key, axis)\u001b[0m\n\u001b[1;32m   1325\u001b[0m         \u001b[0maxis_name\u001b[0m \u001b[0;34m=\u001b[0m \u001b[0mself\u001b[0m\u001b[0;34m.\u001b[0m\u001b[0mobj\u001b[0m\u001b[0;34m.\u001b[0m\u001b[0m_get_axis_name\u001b[0m\u001b[0;34m(\u001b[0m\u001b[0maxis\u001b[0m\u001b[0;34m)\u001b[0m\u001b[0;34m\u001b[0m\u001b[0;34m\u001b[0m\u001b[0m\n\u001b[1;32m   1326\u001b[0m \u001b[0;34m\u001b[0m\u001b[0m\n\u001b[0;32m-> 1327\u001b[0;31m         \u001b[0mkeyarr\u001b[0m\u001b[0;34m,\u001b[0m \u001b[0mindexer\u001b[0m \u001b[0;34m=\u001b[0m \u001b[0max\u001b[0m\u001b[0;34m.\u001b[0m\u001b[0m_get_indexer_strict\u001b[0m\u001b[0;34m(\u001b[0m\u001b[0mkey\u001b[0m\u001b[0;34m,\u001b[0m \u001b[0maxis_name\u001b[0m\u001b[0;34m)\u001b[0m\u001b[0;34m\u001b[0m\u001b[0;34m\u001b[0m\u001b[0m\n\u001b[0m\u001b[1;32m   1328\u001b[0m \u001b[0;34m\u001b[0m\u001b[0m\n\u001b[1;32m   1329\u001b[0m         \u001b[0;32mreturn\u001b[0m \u001b[0mkeyarr\u001b[0m\u001b[0;34m,\u001b[0m \u001b[0mindexer\u001b[0m\u001b[0;34m\u001b[0m\u001b[0;34m\u001b[0m\u001b[0m\n",
      "\u001b[0;32m/opt/tljh/user/lib/python3.8/site-packages/pandas/core/indexes/base.py\u001b[0m in \u001b[0;36m_get_indexer_strict\u001b[0;34m(self, key, axis_name)\u001b[0m\n\u001b[1;32m   5780\u001b[0m             \u001b[0mkeyarr\u001b[0m\u001b[0;34m,\u001b[0m \u001b[0mindexer\u001b[0m\u001b[0;34m,\u001b[0m \u001b[0mnew_indexer\u001b[0m \u001b[0;34m=\u001b[0m \u001b[0mself\u001b[0m\u001b[0;34m.\u001b[0m\u001b[0m_reindex_non_unique\u001b[0m\u001b[0;34m(\u001b[0m\u001b[0mkeyarr\u001b[0m\u001b[0;34m)\u001b[0m\u001b[0;34m\u001b[0m\u001b[0;34m\u001b[0m\u001b[0m\n\u001b[1;32m   5781\u001b[0m \u001b[0;34m\u001b[0m\u001b[0m\n\u001b[0;32m-> 5782\u001b[0;31m         \u001b[0mself\u001b[0m\u001b[0;34m.\u001b[0m\u001b[0m_raise_if_missing\u001b[0m\u001b[0;34m(\u001b[0m\u001b[0mkeyarr\u001b[0m\u001b[0;34m,\u001b[0m \u001b[0mindexer\u001b[0m\u001b[0;34m,\u001b[0m \u001b[0maxis_name\u001b[0m\u001b[0;34m)\u001b[0m\u001b[0;34m\u001b[0m\u001b[0;34m\u001b[0m\u001b[0m\n\u001b[0m\u001b[1;32m   5783\u001b[0m \u001b[0;34m\u001b[0m\u001b[0m\n\u001b[1;32m   5784\u001b[0m         \u001b[0mkeyarr\u001b[0m \u001b[0;34m=\u001b[0m \u001b[0mself\u001b[0m\u001b[0;34m.\u001b[0m\u001b[0mtake\u001b[0m\u001b[0;34m(\u001b[0m\u001b[0mindexer\u001b[0m\u001b[0;34m)\u001b[0m\u001b[0;34m\u001b[0m\u001b[0;34m\u001b[0m\u001b[0m\n",
      "\u001b[0;32m/opt/tljh/user/lib/python3.8/site-packages/pandas/core/indexes/base.py\u001b[0m in \u001b[0;36m_raise_if_missing\u001b[0;34m(self, key, indexer, axis_name)\u001b[0m\n\u001b[1;32m   5840\u001b[0m                 \u001b[0;32mif\u001b[0m \u001b[0muse_interval_msg\u001b[0m\u001b[0;34m:\u001b[0m\u001b[0;34m\u001b[0m\u001b[0;34m\u001b[0m\u001b[0m\n\u001b[1;32m   5841\u001b[0m                     \u001b[0mkey\u001b[0m \u001b[0;34m=\u001b[0m \u001b[0mlist\u001b[0m\u001b[0;34m(\u001b[0m\u001b[0mkey\u001b[0m\u001b[0;34m)\u001b[0m\u001b[0;34m\u001b[0m\u001b[0;34m\u001b[0m\u001b[0m\n\u001b[0;32m-> 5842\u001b[0;31m                 \u001b[0;32mraise\u001b[0m \u001b[0mKeyError\u001b[0m\u001b[0;34m(\u001b[0m\u001b[0;34mf\"None of [{key}] are in the [{axis_name}]\"\u001b[0m\u001b[0;34m)\u001b[0m\u001b[0;34m\u001b[0m\u001b[0;34m\u001b[0m\u001b[0m\n\u001b[0m\u001b[1;32m   5843\u001b[0m \u001b[0;34m\u001b[0m\u001b[0m\n\u001b[1;32m   5844\u001b[0m             \u001b[0mnot_found\u001b[0m \u001b[0;34m=\u001b[0m \u001b[0mlist\u001b[0m\u001b[0;34m(\u001b[0m\u001b[0mensure_index\u001b[0m\u001b[0;34m(\u001b[0m\u001b[0mkey\u001b[0m\u001b[0;34m)\u001b[0m\u001b[0;34m[\u001b[0m\u001b[0mmissing_mask\u001b[0m\u001b[0;34m.\u001b[0m\u001b[0mnonzero\u001b[0m\u001b[0;34m(\u001b[0m\u001b[0;34m)\u001b[0m\u001b[0;34m[\u001b[0m\u001b[0;36m0\u001b[0m\u001b[0;34m]\u001b[0m\u001b[0;34m]\u001b[0m\u001b[0;34m.\u001b[0m\u001b[0munique\u001b[0m\u001b[0;34m(\u001b[0m\u001b[0;34m)\u001b[0m\u001b[0;34m)\u001b[0m\u001b[0;34m\u001b[0m\u001b[0;34m\u001b[0m\u001b[0m\n",
      "\u001b[0;31mKeyError\u001b[0m: \"None of [Index(['neighborhood', 'parks_satisfied', 'schools_satisfied',\\n       'street_maintenance_satisfied', 'public_transportation_satisfied',\\n       'fire_department_satisfied', 'sewage_system_satisfied',\\n       'condition_cost_housing_satisfied'],\\n      dtype='object')] are in the [columns]\""
     ]
    }
   ],
   "source": [
    "#import the dataset from a csv file\n",
    "neighSat = pd.read_csv(\"neigborhoodSatisfaction.csv\")\n",
    "\n",
    "#test to see if it worked\n",
    "#neighSat[['parks_satisfied', 'schools_satisfied','street_maintenance_satisfied','public_transportation_satisfied','fire_department_satisfied','sewage_system_satisfied','condition_cost_housing_satisfied']]\n",
    "\n",
    "#get all the rows and the specified columns from the dataset\n",
    "neighSat.loc[:,['neighborhood','parks_satisfied', 'schools_satisfied','street_maintenance_satisfied','public_transportation_satisfied','fire_department_satisfied','sewage_system_satisfied','condition_cost_housing_satisfied'] ]\n",
    "\n",
    "#make a new frame that just contains the ^^above^^ query\n",
    "newNeigh = neighSat.loc[:,['neighborhood','parks_satisfied', 'schools_satisfied','street_maintenance_satisfied','public_transportation_satisfied','fire_department_satisfied','sewage_system_satisfied','condition_cost_housing_satisfied'] ]\n",
    "\n",
    "#make new dataframes that select the top 5 for each category\n",
    "parkS = newNeigh.nlargest(5,'parks_satisfied')\n",
    "schoolS = newNeigh.nlargest(5,'schools_satisfied')\n",
    "streetS = newNeigh.nlargest(5,'street_maintenance_satisfied')\n",
    "transportS = newNeigh.nlargest(5,'public_transportation_satisfied')\n",
    "\n",
    "#make new dfs that narrow down the data \n",
    "parkH = parkS.loc[:,['neighborhood','parks_satisfied']]\n",
    "schoolH = schoolS.loc[:,['neighborhood','schools_satisfied']]\n",
    "streetH = streetS.loc[:,['neighborhood','street_maintenance_satisfied']]\n",
    "transportH = transportS.loc[:,['neighborhood','public_transportation_satisfied']]\n",
    "\n",
    "###\n",
    "###\n",
    "###\n",
    "###make new data frames from the dataframes that narrowd the data down\n",
    "\n",
    "#transportB\n",
    "transportB = pd.DataFrame(\n",
    "    {\"public_transportation_satisfied\": [100, 91, 90, 88, 85]}, \n",
    "    index=[\"North Side\", \"Esplen\", \"Oakwood\", \"Allegheny Center\", \"Regent Square\"])\n",
    "\n",
    "#streetB\n",
    "streetB = pd.DataFrame(\n",
    "    {\"street_maintenance_satisfied\": [59, 57,56,54,51]}, \n",
    "    index=[\"Bon Air\", \"Morningside\", \"Stanton Heights\", \"Northview Heights\", \"Allegheny Center\"])\n",
    "\n",
    "#schoolB\n",
    "schoolB = pd.DataFrame(\n",
    "    {\"schools_satisfied\": [80, 70,66,64,62]}, \n",
    "    index=[\"North Side\", \"Duquesne Heights\", \"Greenfield\", \"Mt Oliver\", \"Morningside\"])\n",
    "\n",
    "#parkB\n",
    "parkB = pd.DataFrame(\n",
    "    {\"parks_satisfied\": [85, 80,76,73,73]}, \n",
    "    index=[\"Highland Park\", \"Squirrel Hill\", \"Greenfield\", \"Allegheny West\", \"Regent Square\"])"
   ]
  },
  {
   "cell_type": "code",
   "execution_count": 3,
   "metadata": {},
   "outputs": [
    {
     "ename": "NameError",
     "evalue": "name 'transportB' is not defined",
     "output_type": "error",
     "traceback": [
      "\u001b[0;31m---------------------------------------------------------------------------\u001b[0m",
      "\u001b[0;31mNameError\u001b[0m                                 Traceback (most recent call last)",
      "\u001b[0;32m<ipython-input-3-2fd9e72d0c39>\u001b[0m in \u001b[0;36m<module>\u001b[0;34m\u001b[0m\n\u001b[1;32m      1\u001b[0m \u001b[0;31m#plots the % of people satisfied with their neighborhoods public transportation service\u001b[0m\u001b[0;34m\u001b[0m\u001b[0;34m\u001b[0m\u001b[0;34m\u001b[0m\u001b[0m\n\u001b[0;32m----> 2\u001b[0;31m \u001b[0mtransportB\u001b[0m\u001b[0;34m.\u001b[0m\u001b[0mplot\u001b[0m\u001b[0;34m.\u001b[0m\u001b[0mbar\u001b[0m\u001b[0;34m(\u001b[0m\u001b[0mcolor\u001b[0m\u001b[0;34m=\u001b[0m\u001b[0;34m'PURPLE'\u001b[0m\u001b[0;34m,\u001b[0m\u001b[0mylabel\u001b[0m\u001b[0;34m=\u001b[0m\u001b[0;34m'% participants satisfied'\u001b[0m\u001b[0;34m)\u001b[0m\u001b[0;34m\u001b[0m\u001b[0;34m\u001b[0m\u001b[0m\n\u001b[0m",
      "\u001b[0;31mNameError\u001b[0m: name 'transportB' is not defined"
     ]
    }
   ],
   "source": [
    "#plots the % of people satisfied with their neighborhoods public transportation service\n",
    "transportB.plot.bar(color='PURPLE',ylabel='% participants satisfied')"
   ]
  },
  {
   "cell_type": "code",
   "execution_count": 9,
   "metadata": {},
   "outputs": [
    {
     "data": {
      "text/plain": [
       "<matplotlib.axes._subplots.AxesSubplot at 0x7f06c151a460>"
      ]
     },
     "execution_count": 9,
     "metadata": {},
     "output_type": "execute_result"
    },
    {
     "data": {
      "image/png": "[encoded data removed]",
      "text/plain": [
       "<Figure size 432x288 with 1 Axes>"
      ]
     },
     "metadata": {
      "needs_background": "light"
     },
     "output_type": "display_data"
    }
   ],
   "source": [
    "#plots the % of people satisfied with their neighborhoods street maintenance\n",
    "streetB.plot.bar(color=\"GRAY\",ylabel='% participants satisfied')"
   ]
  },
  {
   "cell_type": "code",
   "execution_count": 10,
   "metadata": {},
   "outputs": [
    {
     "data": {
      "text/plain": [
       "<matplotlib.axes._subplots.AxesSubplot at 0x7f06c1aab850>"
      ]
     },
     "execution_count": 10,
     "metadata": {},
     "output_type": "execute_result"
    },
    {
     "data": {
      "image/png": "[encoded data removed]",
      "text/plain": [
       "<Figure size 432x288 with 1 Axes>"
      ]
     },
     "metadata": {
      "needs_background": "light"
     },
     "output_type": "display_data"
    }
   ],
   "source": [
    "#plots the % of people satisfied with their neighborhoods schools\n",
    "schoolB.plot.bar(color = \"YELLOW\",ylabel='% participants satisfied')"
   ]
  },
  {
   "cell_type": "code",
   "execution_count": 11,
   "metadata": {},
   "outputs": [
    {
     "data": {
      "text/plain": [
       "<matplotlib.axes._subplots.AxesSubplot at 0x7f06c146d190>"
      ]
     },
     "execution_count": 11,
     "metadata": {},
     "output_type": "execute_result"
    },
    {
     "data": {
      "image/png": "[encoded data removed]",
      "text/plain": [
       "<Figure size 432x288 with 1 Axes>"
      ]
     },
     "metadata": {
      "needs_background": "light"
     },
     "output_type": "display_data"
    }
   ],
   "source": [
    "#plots the % of people satisfied with their neighborhoods parks\n",
    "parkB.plot.bar(color = \"GREEN\",ylabel='% participants satisfied')"
   ]
  },
  {
   "cell_type": "markdown",
   "metadata": {},
   "source": [
    "Results:\n",
    "\n",
    "**Greenfield** appears twice for *parks satisfied* and *schools satisfied*\n",
    "\n",
    "\n",
    "**Regent Square** appears twice in *parks satisfied* and *public transportation satisfied*\n",
    "\n",
    "\n",
    "**Allegheny Center** appears twice in *street maintenance satisfaction* and *public transporation satisfaction*\n",
    "\n",
    "\n",
    "**North Side** is a the top of *public transportation satisfaction* and *schools satisfied*\n"
   ]
  },
  {
   "cell_type": "markdown",
   "metadata": {},
   "source": [
    "### The Best Neighborhood"
   ]
  },
  {
   "cell_type": "markdown",
   "metadata": {},
   "source": [
    "Based on the data we presented above, we have determined the best neighborhood to raise a family in is Regent Square in Squirrel Hill South. The neighborhood has 32% of their students being gifted, 8 playgrounds, and appeared twice in parks satisfied and public transportation satisfied. \n",
    "Our best neighborhood conclusion matches with our personal favorite neighborhood, which is Squirrel Hill South.\n",
    "\n",
    "## Thank you! Any Questions?"
   ]
  }
 ],
 "metadata": {
  "kernelspec": {
   "display_name": "Python 3",
   "language": "python",
   "name": "python3"
  },
  "language_info": {
   "codemirror_mode": {
    "name": "ipython",
    "version": 3
   },
   "file_extension": ".py",
   "mimetype": "text/x-python",
   "name": "python",
   "nbconvert_exporter": "python",
   "pygments_lexer": "ipython3",
   "version": "3.8.3"
  }
 },
 "nbformat": 4,
 "nbformat_minor": 4
}
